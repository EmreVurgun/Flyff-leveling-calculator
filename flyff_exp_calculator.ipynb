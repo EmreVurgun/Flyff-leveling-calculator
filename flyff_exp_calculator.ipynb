{
  "cells": [
    {
      "cell_type": "markdown",
      "metadata": {
        "id": "Tq4_IldVIazv"
      },
      "source": [
        "FLYFF exp rate and time calculator"
      ]
    },
    {
      "cell_type": "code",
      "execution_count": null,
      "metadata": {
        "id": "tYvscxAZaUjf"
      },
      "outputs": [],
      "source": [
        "import matplotlib.pyplot as plt\n",
        "import re"
      ]
    },
    {
      "cell_type": "code",
      "execution_count": null,
      "metadata": {
        "id": "dc7tDiGeIZ_c"
      },
      "outputs": [],
      "source": [
        "exp_req = [0,14,20,36,90,152,250,352,480,591,743,973,1290,1632,1928,2340,3480,4125,4995,5880,\n",
        "           7840,6875,8243,10380,13052,16450,20700,26143,31950,38640,57035,65000,69125,72000,87239,105863,128694,182307,221450,269042,\n",
        "           390368,438550,458137,468943,560177,669320,799963,1115396,1331100,1590273,2306878,2594255,2711490,2777349,3318059,3963400,4735913,6600425,7886110,9421875,\n",
        "           13547310,15099446,15644776,15885934,18817757,22280630,26392968,36465972,43184958,51141217,73556918,81991117,84966758,86252845,102171368,120995493,143307208,198000645,234477760,277716683,\n",
        "           381795797,406848219,403044458,391191019,442876559,501408635,567694433,749813704,849001357,961154774,\n",
        "           1309582668,1382799035,1357505030,1305632790,1464862605,1628695740,1810772333,2348583653,2611145432,2903009208,\n",
        "           3919352097,4063358600,3916810682,4314535354,4752892146,5235785988,5767741845,6353744416,6999284849,7710412189,\n",
        "           8493790068,9356759139,10307405867,11354638303,12508269555,13779109742,15179067292,16721260528,18420140598,20291626883,\n",
        "           22353256174,24624347002,27126180657,29882200612,32918232194,36262724585,39947017402,44005634371,48476606823,53401830076,\n",
        "           58827456011,64804325542,71388445017,78641511031,86631488552,95433247789,105129265764,115810399166,127576735721,140538532070,\n",
        "           154817246928,170546679216,187874221825,206962242762,227989606627,251153350660,276670531087,304780257046,335745931162,369857717768,\n",
        "           554786576652,832179864978,1248269797467,1872404696201,2808607044301,3089467748731,3182151781193,3277616334629,3375944824668,3477223169408,\n",
        "           3581539864490,3688986060425,3799655642237,3913645311505,4031054670850,4151986310975,5812780835365,7556615085975,9823599611767,12770679495297]"
      ]
    },
    {
      "cell_type": "code",
      "execution_count": null,
      "metadata": {
        "id": "VHIDW6vhdZfP"
      },
      "outputs": [],
      "source": [
        "exp_req_universe = exp_req[:140]"
      ]
    },
    {
      "cell_type": "code",
      "execution_count": null,
      "metadata": {
        "id": "REBboTnCUogM"
      },
      "outputs": [],
      "source": [
        "exp_rew_normal = [0,2,4,5,9,9,11,12,13,14,15,\n",
        "                  18,20,22,25,29,32,36,41,46,53,\n",
        "                  61,69,79,90,103,119,136,156,177,201,\n",
        "                  229,261,297,338,384,437,497,567,646,723,\n",
        "                  809,905,1013,1134,1269,1421,1592,1782,2501,2501,\n",
        "                  2501,2801,3136,3512,3934,4406,4934,5525,6188,6867,\n",
        "                  11570,12841,14254,15821,21074,23391,25964,28819,31988,35506,\n",
        "                  35506,36786,40832,45323,50308,55841,61983,68801,76369,84764,\n",
        "                  94093,104443,115931,128683,141551,155706,155706,188403,207243,225894,\n",
        "                  246224,268384,292538,318866,347563,375368,405397,437828,472854,496756,\n",
        "                  579415,625767,592105,690630,756880,686512,800746,864805,774266,903102,\n",
        "                  975349,975349,1100000,1250000,1250000,1356336,1412850,1471719,1533041,1596917,\n",
        "                  1663456,1663456,1663456,1559786,1624778,1692477,1762997,1836455,1912974,1912974,\n",
        "                  1912974,1912974,1949733,2030972,2115596,2302568,2310568,2310568,2310568,2310568,\n",
        "                  2310568,2310568,2310568,2310568,10567199,10567199,10567199,10567199,10567199,10567199,\n",
        "                  10567199,10567199,16143996,16143996,18861914,18861914,18861914,18861914,18861914,31568337,\n",
        "                  31568337,31568337,31568337,31568337,31568337,31568337,31568337,31568337,31568337]"
      ]
    },
    {
      "cell_type": "code",
      "execution_count": null,
      "metadata": {
        "id": "dPV-fx3zBYjT"
      },
      "outputs": [],
      "source": [
        "exp_rew_prem = [0,2,4,5,9,9,11,12,13,14,15,\n",
        "                18,20,22,25,29,32,36,41,46,53,\n",
        "                61,69,79,90,103,119,136,156,177,201,\n",
        "                229,261,297,338,384,437,497,567,646,723,\n",
        "                809,905,1013,1134,1269,1421,1592,1782,2501,2501,\n",
        "                2501,2801,3136,3512,3934,4406,4934,5525,6188,6867,\n",
        "                7622,8460,9391,10424,11570,12841,14254,29081,29081,29081,\n",
        "                29081,29081,29081,54388,54388,54388,54388,54388,54388,101723,\n",
        "                101723,101723,101723,101723,101723,186847,186847,186847,186847,186847,\n",
        "                186847,322061,322061,322061,322061,322061,322061,525394,525394,525394,\n",
        "                525394,525394,525394,828756,828756,828756,828756,828756,828756,1787500,\n",
        "                1787500,1787500,1966250,1966250,2162875,2162875,2379162,2379162,2617079,2617079,\n",
        "                2878787,2878787,2878787,3324998,3324998,3324998,3324998,3324998,4626735,4626735,\n",
        "                4626735,4626735,4626735,5598350,5598350,5598350,5598350,5598350,6774003,6774003,\n",
        "                6774003,6774003,6774003,8196544,8196544,8196544,8196544,8196544,8196544,9917819,\n",
        "                9917819,9917819,16143996,16143996,18861914,18861914,18861914,18861914,18861914,31568337,\n",
        "                31568337,31568337,31568337,31568337,31568337,31568337,31568337,31568337,31568337]"
      ]
    },
    {
      "cell_type": "code",
      "execution_count": null,
      "metadata": {
        "id": "TNTFbeCwF2iK"
      },
      "outputs": [],
      "source": [
        "exp_rew_universe = [0,2,4,5,9,9,11,12,13,14,15,\n",
        "                    18,20,22,25,29,32,36,41,46,53,\n",
        "                    61,69,79,90,103,119,136,156,177,201,\n",
        "                    229,261,297,338,384,437,497,567,646,723,\n",
        "                    809,905,1013,1134,1269,1421,1592,1782,2501,2501,\n",
        "                    2501,2801,3136,3512,3934,4406,4934,5525,6188,6867,\n",
        "                    11570,12841,14254,15821,21074,23391,25964,28819,31988,35506,\n",
        "                    35506,36786,40832,45323,50308,55841,61983,68801,76369,84764,\n",
        "                    94093,104443,115931,128683,141551,155706,155706,188403,207243,225894,\n",
        "                    246224,268384,292538,318866,347563,375368,405397,437828,472854,534050,\n",
        "                    576774,576774,594939,594939,594939,638827,638827,638827,780247,838766,\n",
        "                    907038,1492224,1584878,1677532,1862841,1955496,2048150,2140805,2140805,2326113,\n",
        "                    2423644,2516299,2516299,2979571,3072225,3164880,3164880,3164880,3164880,3910992,\n",
        "                    4096301,4471795,4471795,4471795,4471795,4471795,4471795,4471795,4471795]"
      ]
    },
    {
      "cell_type": "code",
      "execution_count": null,
      "metadata": {
        "id": "iw47RBgmlDYv"
      },
      "outputs": [],
      "source": [
        "change_req = []\n",
        "change_rew_normal = []\n",
        "change_rew_prem = []\n",
        "change_rew_universe = []"
      ]
    },
    {
      "cell_type": "code",
      "execution_count": null,
      "metadata": {
        "id": "aIAYH7rtOx7H"
      },
      "outputs": [],
      "source": [
        "mob_normal = []\n",
        "mob_prem = []\n",
        "mob_universe = []"
      ]
    },
    {
      "cell_type": "code",
      "execution_count": null,
      "metadata": {
        "id": "WL88t-P0iyrT"
      },
      "outputs": [],
      "source": [
        "### adding ratios\n",
        "for i in range(168):\n",
        "  change_req.append(exp_req[i+2]/exp_req[i+1])\n",
        "\n",
        "for i in range(168):\n",
        "  change_rew_normal.append(exp_rew_normal[i+2]/exp_rew_normal[i+1])\n",
        "\n",
        "for i in range(168):\n",
        "  change_rew_prem.append(exp_rew_prem[i+2]/exp_rew_prem[i+1])\n",
        "\n",
        "for i in range(138):\n",
        "  change_rew_universe.append(exp_rew_universe[i+2]/exp_rew_universe[i+1])"
      ]
    },
    {
      "cell_type": "code",
      "execution_count": null,
      "metadata": {
        "id": "nGoPQN54Rlbw"
      },
      "outputs": [],
      "source": [
        "### adding mob amounts\n",
        "for i in range(len(exp_req)-1):\n",
        "  mob_normal.append(int(exp_req[i+1])/exp_rew_normal[i+1])\n",
        "\n",
        "for i in range(len(exp_req)-1):\n",
        "  mob_prem.append(int(exp_req[i+1])/exp_rew_prem[i+1])\n",
        "\n",
        "for i in range(len(exp_req_universe)-1):\n",
        "  mob_universe.append(int(exp_req_universe[i+1])/exp_rew_universe[i+1])"
      ]
    },
    {
      "cell_type": "code",
      "execution_count": null,
      "metadata": {
        "id": "3LMxlGS7pqmD"
      },
      "outputs": [],
      "source": [
        "time_per_mob = 0"
      ]
    },
    {
      "cell_type": "markdown",
      "metadata": {
        "id": "GNPppxZIPXtR"
      },
      "source": [
        "Plotting data"
      ]
    },
    {
      "cell_type": "code",
      "execution_count": null,
      "metadata": {
        "id": "bEXUv_PezebK"
      },
      "outputs": [],
      "source": [
        "### to plot general time per level trend later\n",
        "mob_diff = []\n",
        "for i in range(len(mob_universe)-1):\n",
        "  mob_diff.append(mob_universe[i+1]-mob_universe[i])"
      ]
    },
    {
      "cell_type": "code",
      "execution_count": null,
      "metadata": {
        "id": "8IyHQO37ZkM7"
      },
      "outputs": [],
      "source": [
        "### exp requirements stuff\n",
        "plt.title(\"Exp req plot\")\n",
        "plt.plot(range(170), exp_req , color = 'blue')\n",
        "plt.xlabel(\"level\")\n",
        "plt.ylabel(\"exp req\")\n",
        "plt.show()\n",
        "\n",
        "plt.title(\"Exp ratios\")\n",
        "plt.plot(range(168), change_req , color = 'blue')\n",
        "plt.xlabel(\"level\")\n",
        "plt.ylabel(\"exp ratio\")\n",
        "plt.show()\n",
        "\n",
        "### reward plots\n",
        "plt.title(\"normal reward plot\")\n",
        "plt.plot(range(170), exp_rew_normal , color = 'blue')\n",
        "plt.xlabel(\"level\")\n",
        "plt.ylabel(\"reward\")\n",
        "plt.show()\n",
        "\n",
        "plt.title(\"premium reward plot\")\n",
        "plt.plot(range(170), exp_rew_prem , color = 'blue')\n",
        "plt.xlabel(\"level\")\n",
        "plt.ylabel(\"reward\")\n",
        "plt.show()\n",
        "\n",
        "plt.title(\"universe reward plot\")\n",
        "plt.plot(range(140), exp_rew_universe , color = 'blue')\n",
        "plt.xlabel(\"level\")\n",
        "plt.ylabel(\"reward\")\n",
        "plt.show()\n",
        "\n",
        "### reward ratios\n",
        "plt.title(\"normal reward ratios\")\n",
        "plt.plot(range(168), change_rew_normal , color = 'blue')\n",
        "plt.xlabel(\"level\")\n",
        "plt.ylabel(\"rew ratio\")\n",
        "plt.show()\n",
        "\n",
        "plt.title(\"premium reward ratios\")\n",
        "plt.plot(range(168), change_rew_prem , color = 'blue')\n",
        "plt.xlabel(\"level\")\n",
        "plt.ylabel(\"rew ratio\")\n",
        "plt.show()\n",
        "\n",
        "plt.title(\"universe reward ratios\")\n",
        "plt.plot(range(138), change_rew_universe , color = 'blue')\n",
        "plt.xlabel(\"level\")\n",
        "plt.ylabel(\"rew ratio\")\n",
        "plt.show()\n",
        "\n",
        "### mob amounts\n",
        "plt.title(\"normal mob amounts per level\")\n",
        "plt.plot(range(169), mob_normal , color = 'blue')\n",
        "plt.xlabel(\"level\")\n",
        "plt.ylabel(\"mobs\")\n",
        "plt.show()\n",
        "\n",
        "plt.title(\"premium mob amounts per level\")\n",
        "plt.plot(range(169), mob_prem , color = 'blue')\n",
        "plt.xlabel(\"level\")\n",
        "plt.ylabel(\"mobs\")\n",
        "plt.show()\n",
        "\n",
        "plt.title(\"universe mob amounts per level\")\n",
        "plt.plot(range(139), mob_universe , color = 'blue')\n",
        "plt.xlabel(\"level\")\n",
        "plt.ylabel(\"mobs\")\n",
        "plt.show()\n",
        "\n",
        "### mob amount(time) differential\n",
        "plt.title(\"mob differential\")\n",
        "plt.plot(range(138), mob_diff , color = 'blue')\n",
        "plt.xlabel(\"level\")\n",
        "plt.ylabel(\"mobs\")\n",
        "plt.show()"
      ]
    },
    {
      "cell_type": "markdown",
      "metadata": {
        "id": "ZkJKW_hhPeyq"
      },
      "source": [
        "Calculating time"
      ]
    },
    {
      "cell_type": "code",
      "execution_count": null,
      "metadata": {
        "id": "J7D6qd08krpt"
      },
      "outputs": [],
      "source": [
        "def calculatespesifictime():\n",
        "  aoe = input(\"Do you aoe? (Enter Y for yes N for no)\")\n",
        "  if aoe == \"Y\":\n",
        "    aoe_amount = int(input(\"How many mobs do you aoe?\"))\n",
        "    aoe_time = int(input(\"How many seconds does it take you to aoe?\"))\n",
        "    time_per_mob = aoe_time/aoe_amount\n",
        "  if aoe == \"N\":\n",
        "    time_per_mob = int(input(\"How many second does it take you to down 1 mob of your level?\"))\n",
        "  starting_level = input(\"What level are you at? (For example enter like 15, 70M or 130H)\")\n",
        "  end_level = input(\"What level do you want to get to? (Add H or M for hero and master. example: 130H)\")\n",
        "  version = input(\"What version of flyff do you play? (Enter P for flyff pc, U for flyff universe.)\")\n",
        "  prem = input(\"Do you have access to premium areas like azria,traseia? Enter Y for yes N for no (Coral island not necessary.)\")\n",
        "  amp = input(\"What is your exp amplification% ? (Enter 100 more than the amps give for example 350 if you level with 5 es amps active or 100 if you have no amps)\")\n",
        "  mobs = 0\n",
        "\n",
        "\n",
        " ### calculation\n",
        "  if version ==\"P\":\n",
        "    if prem == \"Y\":\n",
        "      mobs = sum(mob_prem[int(re.sub(\"M|H|\\s\", \"\", starting_level))-1:int(re.sub(\"M|H|\\s\", \"\",end_level))])\n",
        "      if not(\"M\" in starting_level) and not(\"H\" in starting_level) and \"M\" in end_level:\n",
        "        mobs += sum(mob_prem[59:int(re.sub(\"M|H|\\s\", \"\",end_level))]*2+sum(mob_prem[int(re.sub(\"M|H|\\s\", \"\",end_level))-1:120]))\n",
        "      elif not(\"M\" in starting_level) and not(\"H\" in starting_level) and \"H\" in end_level:\n",
        "        mobs += sum(mob_prem[59:120])*2\n",
        "      elif \"M\" in starting_level and \"M\" in end_level:\n",
        "        mobs += mobs\n",
        "      elif \"M\" in starting_level and \"H\" in end_level:\n",
        "        mobs += sum(mob_prem[int(re.sub(\"M|H|\\s\", \"\", starting_level))-1:120])\n",
        "    if prem == \"N\":\n",
        "      mobs = sum(mob_normal[int(re.sub(\"M|H|\\s\", \"\", starting_level))-1:int(re.sub(\"M|H|\\s\", \"\",end_level))])\n",
        "      if not(\"M\" in starting_level) and not(\"H\" in starting_level) and \"M\" in end_level:\n",
        "        mobs += sum(mob_normal[59:int(re.sub(\"M|H|\\s\", \"\",end_level))]*2+sum(mob_normal[int(re.sub(\"M|H|\\s\", \"\",end_level))-1:120]))\n",
        "      elif not(\"M\" in starting_level) and not(\"H\" in starting_level) and \"H\" in end_level:\n",
        "        mobs += sum(mob_normal[59:120])*2\n",
        "      elif \"M\" in starting_level and \"M\" in end_level:\n",
        "        mobs += mobs\n",
        "      elif \"M\" in starting_level and \"H\" in end_level:\n",
        "        mobs += sum(mob_normal[int(re.sub(\"M|H|\\s\", \"\", starting_level))-1:120])\n",
        "  if version == \"U\":\n",
        "    mobs = sum(mob_universe[int(re.sub(\"M|H|\\s\", \"\", starting_level))-1:int(re.sub(\"M|H|\\s\", \"\",end_level))])\n",
        "    if not(\"M\" in starting_level) and not(\"H\" in starting_level) and \"M\" in end_level:\n",
        "      mobs += sum(mob_universe[59:int(re.sub(\"M|H|\\s\", \"\",end_level))]*2+sum(mob_universe[int(re.sub(\"M|H|\\s\", \"\",end_level))-1:120]))\n",
        "    elif not(\"M\" in starting_level) and not(\"H\" in starting_level) and \"H\" in end_level:\n",
        "      mobs += sum(mob_universe[59:120])*2\n",
        "    elif \"M\" in starting_level and \"M\" in end_level:\n",
        "      mobs += mobs\n",
        "    elif \"M\" in starting_level and \"H\" in end_level:\n",
        "      mobs += sum(mob_universe[int(re.sub(\"M|H|\\s\", \"\", starting_level))-1:120])\n",
        "  time = round((mobs*time_per_mob/(int(amp)/100)/3600),2)\n",
        "  ### results\n",
        "  print(\"------------------------------------------\")\n",
        "  print(f\"Total time to your goal is: {time} hours.\")\n",
        "  print(\"\")"
      ]
    },
    {
      "cell_type": "code",
      "execution_count": null,
      "metadata": {
        "id": "YZ-BdY7v5ejI"
      },
      "outputs": [],
      "source": [
        "def calculate():\n",
        "  try:\n",
        "    calculatespesifictime()\n",
        "  except Exception as e:\n",
        "    print(\"\")\n",
        "    print(\"You entered inputs incorrectly (Be careful to capitalize Letters)\")\n",
        "    print(\"Try again\")\n",
        "    print(\"\")\n",
        "    calculate()"
      ]
    },
    {
      "cell_type": "code",
      "execution_count": null,
      "metadata": {
        "id": "l6us80TdbAsc"
      },
      "outputs": [],
      "source": [
        "loop = True  \n",
        "while loop == True:\n",
        "  calculate()\n",
        "  condition = input(\"Do you wish to calculate again? (Enter Y to continue N to exit.)\")\n",
        "  if condition == \"N\":\n",
        "    loop = False"
      ]
    }
  ],
  "metadata": {
    "colab": {
      "provenance": [],
      "toc_visible": true
    },
    "kernelspec": {
      "display_name": "Python 3",
      "language": "python",
      "name": "python3"
    },
    "language_info": {
      "name": "python",
      "version": "3.9.13"
    },
    "vscode": {
      "interpreter": {
        "hash": "3b22d7bedf5faa2f51506e852576706f63aec0f474db8eaa04e377133d5f80f3"
      }
    }
  },
  "nbformat": 4,
  "nbformat_minor": 0
}
